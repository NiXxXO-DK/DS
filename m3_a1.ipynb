{
  "nbformat": 4,
  "nbformat_minor": 0,
  "metadata": {
    "colab": {
      "name": "m3 a1",
      "provenance": [],
      "include_colab_link": true
    },
    "kernelspec": {
      "display_name": "Python 3 (ipykernel)",
      "language": "python",
      "name": "python3"
    },
    "language_info": {
      "codemirror_mode": {
        "name": "ipython",
        "version": 3
      },
      "file_extension": ".py",
      "mimetype": "text/x-python",
      "name": "python",
      "nbconvert_exporter": "python",
      "pygments_lexer": "ipython3",
      "version": "3.9.7"
    },
    "accelerator": "GPU"
  },
  "cells": [
    {
      "cell_type": "markdown",
      "metadata": {
        "id": "view-in-github",
        "colab_type": "text"
      },
      "source": [
        "<a href=\"https://colab.research.google.com/github/NiXxXO-DK/DS/blob/master/m3_a1.ipynb\" target=\"_parent\"><img src=\"https://colab.research.google.com/assets/colab-badge.svg\" alt=\"Open In Colab\"/></a>"
      ]
    },
    {
      "cell_type": "code",
      "metadata": {
        "id": "KmoE4BRuVFaG"
      },
      "source": [
        "# Download and install tonsorflow and keras\n",
        "#!pip download -qq keras\n",
        "#!pip install -qq tensorflow\n",
        "#!pip install keras"
      ],
      "execution_count": 1,
      "outputs": []
    },
    {
      "cell_type": "code",
      "metadata": {
        "id": "BBTZ5i15r-gk"
      },
      "source": [
        "#import packages\n",
        "import pandas as pd\n",
        "import numpy as np\n",
        "import matplotlib as plt\n",
        "\n",
        "from sklearn.feature_extraction.text import CountVectorizer\n",
        "from keras.preprocessing.text import Tokenizer\n",
        "from keras.preprocessing.sequence import pad_sequences\n",
        "from keras.models import Sequential\n",
        "from keras.layers import Dense, Embedding, LSTM, SpatialDropout1D\n",
        "from sklearn.model_selection import train_test_split\n",
        "from keras.utils.np_utils import to_categorical\n",
        "import re"
      ],
      "execution_count": 2,
      "outputs": []
    },
    {
      "cell_type": "code",
      "metadata": {
        "id": "7pJtrMtBr-bV",
        "colab": {
          "base_uri": "https://localhost:8080/",
          "height": 421
        },
        "outputId": "08f20307-bf19-47df-95b7-d4eed2141902"
      },
      "source": [
        "#Import tweet data\n",
        "header = ['text', 'sentiment']\n",
        "data = pd.read_csv('https://github.com/SDS-AAU/SDS-master/raw/master/M3/assignments/find_elon.gz',compression='gzip', names=header)\n",
        "pd.DataFrame(data).sort_index(ascending=True)"
      ],
      "execution_count": 3,
      "outputs": [
        {
          "output_type": "execute_result",
          "data": {
            "text/html": [
              "<div>\n",
              "<style scoped>\n",
              "    .dataframe tbody tr th:only-of-type {\n",
              "        vertical-align: middle;\n",
              "    }\n",
              "\n",
              "    .dataframe tbody tr th {\n",
              "        vertical-align: top;\n",
              "    }\n",
              "\n",
              "    .dataframe thead th {\n",
              "        text-align: right;\n",
              "    }\n",
              "</style>\n",
              "<table border=\"1\" class=\"dataframe\">\n",
              "  <thead>\n",
              "    <tr style=\"text-align: right;\">\n",
              "      <th></th>\n",
              "      <th>text</th>\n",
              "      <th>sentiment</th>\n",
              "    </tr>\n",
              "  </thead>\n",
              "  <tbody>\n",
              "    <tr>\n",
              "      <th>0</th>\n",
              "      <td>0</td>\n",
              "      <td>1</td>\n",
              "    </tr>\n",
              "    <tr>\n",
              "      <th>1</th>\n",
              "      <td>@WhatsupFranks @lexfridman NPCs all the way up</td>\n",
              "      <td>1</td>\n",
              "    </tr>\n",
              "    <tr>\n",
              "      <th>2</th>\n",
              "      <td>We’ll only do one or two at a time. @S_Padival...</td>\n",
              "      <td>0</td>\n",
              "    </tr>\n",
              "    <tr>\n",
              "      <th>3</th>\n",
              "      <td>@Erdayastronaut @SpaceX SN4 with F9 engine is ...</td>\n",
              "      <td>0</td>\n",
              "    </tr>\n",
              "    <tr>\n",
              "      <th>4</th>\n",
              "      <td>@LarryKellogg @arctechinc The Tesla FSD comput...</td>\n",
              "      <td>1</td>\n",
              "    </tr>\n",
              "    <tr>\n",
              "      <th>...</th>\n",
              "      <td>...</td>\n",
              "      <td>...</td>\n",
              "    </tr>\n",
              "    <tr>\n",
              "      <th>3150</th>\n",
              "      <td>In fact, the tunnel will not be there for seve...</td>\n",
              "      <td>0</td>\n",
              "    </tr>\n",
              "    <tr>\n",
              "      <th>3151</th>\n",
              "      <td>Tesla dual motor means there is a motor in fro...</td>\n",
              "      <td>1</td>\n",
              "    </tr>\n",
              "    <tr>\n",
              "      <th>3152</th>\n",
              "      <td>Hey babe, fancy a hot date …? 😉 @4thFromOurStar</td>\n",
              "      <td>1</td>\n",
              "    </tr>\n",
              "    <tr>\n",
              "      <th>3153</th>\n",
              "      <td>If you buy a car, you will get a self-driving ...</td>\n",
              "      <td>0</td>\n",
              "    </tr>\n",
              "    <tr>\n",
              "      <th>3154</th>\n",
              "      <td>@richardreinariv He has no clue</td>\n",
              "      <td>1</td>\n",
              "    </tr>\n",
              "  </tbody>\n",
              "</table>\n",
              "<p>3155 rows × 2 columns</p>\n",
              "</div>"
            ],
            "text/plain": [
              "                                                   text  sentiment\n",
              "0                                                     0          1\n",
              "1        @WhatsupFranks @lexfridman NPCs all the way up          1\n",
              "2     We’ll only do one or two at a time. @S_Padival...          0\n",
              "3     @Erdayastronaut @SpaceX SN4 with F9 engine is ...          0\n",
              "4     @LarryKellogg @arctechinc The Tesla FSD comput...          1\n",
              "...                                                 ...        ...\n",
              "3150  In fact, the tunnel will not be there for seve...          0\n",
              "3151  Tesla dual motor means there is a motor in fro...          1\n",
              "3152    Hey babe, fancy a hot date …? 😉 @4thFromOurStar          1\n",
              "3153  If you buy a car, you will get a self-driving ...          0\n",
              "3154                    @richardreinariv He has no clue          1\n",
              "\n",
              "[3155 rows x 2 columns]"
            ]
          },
          "metadata": {},
          "execution_count": 3
        }
      ]
    },
    {
      "cell_type": "code",
      "metadata": {
        "colab": {
          "base_uri": "https://localhost:8080/"
        },
        "id": "TTx2VABQ0FtB",
        "outputId": "dcb4c623-814c-4b5f-eff2-345f74835f2e"
      },
      "source": [
        "#Change the sentiment to true/false\n",
        "data['sentiment'] = data['sentiment'].map({0: \"False\", 1: \"True\"})\n",
        "print(data)"
      ],
      "execution_count": 4,
      "outputs": [
        {
          "output_type": "stream",
          "name": "stdout",
          "text": [
            "                                                   text sentiment\n",
            "0                                                     0      True\n",
            "1        @WhatsupFranks @lexfridman NPCs all the way up      True\n",
            "2     We’ll only do one or two at a time. @S_Padival...     False\n",
            "3     @Erdayastronaut @SpaceX SN4 with F9 engine is ...     False\n",
            "4     @LarryKellogg @arctechinc The Tesla FSD comput...      True\n",
            "...                                                 ...       ...\n",
            "3150  In fact, the tunnel will not be there for seve...     False\n",
            "3151  Tesla dual motor means there is a motor in fro...      True\n",
            "3152    Hey babe, fancy a hot date …? 😉 @4thFromOurStar      True\n",
            "3153  If you buy a car, you will get a self-driving ...     False\n",
            "3154                    @richardreinariv He has no clue      True\n",
            "\n",
            "[3155 rows x 2 columns]\n"
          ]
        }
      ]
    },
    {
      "cell_type": "code",
      "metadata": {
        "colab": {
          "base_uri": "https://localhost:8080/"
        },
        "id": "yA2w9CctvAM0",
        "outputId": "f6ab33a7-1be6-48d7-ff92-986cf2d9b3f2"
      },
      "source": [
        "#Clean and Tokenize the data\n",
        "data['text'] = data['text'].apply(lambda x: x.lower())\n",
        "data['text'] = data['text'].apply((lambda x: re.sub('[^a-zA-z0-9\\s]','',x)))\n",
        "\n",
        "print(data[ data['sentiment'] == \"True\"].size)\n",
        "print(data[ data['sentiment'] == \"False\"].size)\n",
        "\n",
        "for idx,row in data.iterrows():\n",
        "    row[0] = row[0].replace('rt',' ')\n",
        "    \n",
        "max_fatures = 10000\n",
        "tokenizer = Tokenizer(num_words=max_fatures, split=' ')\n",
        "tokenizer.fit_on_texts(data['text'].values)\n",
        "X = tokenizer.texts_to_sequences(data['text'].values)\n",
        "X = pad_sequences(X)"
      ],
      "execution_count": 5,
      "outputs": [
        {
          "output_type": "stream",
          "name": "stdout",
          "text": [
            "3156\n",
            "3154\n"
          ]
        }
      ]
    },
    {
      "cell_type": "code",
      "metadata": {
        "colab": {
          "base_uri": "https://localhost:8080/"
        },
        "id": "4wk5Ga8BvLhZ",
        "outputId": "ce65a50c-cbd4-456e-9fd0-b7f7732fbb09"
      },
      "source": [
        "#Create  the model with an embedding layer as input\n",
        "\n",
        "embed_dim = 256\n",
        "lstm_out = 512\n",
        "\n",
        "model = Sequential()\n",
        "model.add(Embedding(max_fatures, embed_dim,input_length = X.shape[1]))\n",
        "model.add(SpatialDropout1D(0.2))\n",
        "model.add(LSTM(lstm_out, dropout=0.2, recurrent_dropout=0.2))\n",
        "model.add(Dense(2,activation='softmax'))\n",
        "model.compile(loss = 'categorical_crossentropy', optimizer='adam',metrics = ['accuracy'])\n",
        "print(model.summary())"
      ],
      "execution_count": 6,
      "outputs": [
        {
          "output_type": "stream",
          "name": "stdout",
          "text": [
            "WARNING:tensorflow:Layer lstm will not use cuDNN kernels since it doesn't meet the criteria. It will use a generic GPU kernel as fallback when running on GPU.\n",
            "Model: \"sequential\"\n",
            "_________________________________________________________________\n",
            " Layer (type)                Output Shape              Param #   \n",
            "=================================================================\n",
            " embedding (Embedding)       (None, 85, 256)           2560000   \n",
            "                                                                 \n",
            " spatial_dropout1d (SpatialD  (None, 85, 256)          0         \n",
            " ropout1D)                                                       \n",
            "                                                                 \n",
            " lstm (LSTM)                 (None, 512)               1574912   \n",
            "                                                                 \n",
            " dense (Dense)               (None, 2)                 1026      \n",
            "                                                                 \n",
            "=================================================================\n",
            "Total params: 4,135,938\n",
            "Trainable params: 4,135,938\n",
            "Non-trainable params: 0\n",
            "_________________________________________________________________\n",
            "None\n"
          ]
        }
      ]
    },
    {
      "cell_type": "code",
      "metadata": {
        "colab": {
          "base_uri": "https://localhost:8080/"
        },
        "id": "fifuau3gvYxG",
        "outputId": "f6f683fb-a5fb-4c28-9980-146073871a28"
      },
      "source": [
        "#Splitting the data to training and test set\n",
        "Y = pd.get_dummies(data['sentiment']).values\n",
        "X_train, X_test, Y_train, Y_test = train_test_split(X,Y, test_size = 0.20, random_state = 42)\n",
        "print(X_train.shape,Y_train.shape)\n",
        "print(X_test.shape,Y_test.shape)"
      ],
      "execution_count": 10,
      "outputs": [
        {
          "output_type": "stream",
          "name": "stdout",
          "text": [
            "(2524, 85) (2524, 2)\n",
            "(631, 85) (631, 2)\n"
          ]
        }
      ]
    },
    {
      "cell_type": "code",
      "metadata": {
        "colab": {
          "base_uri": "https://localhost:8080/"
        },
        "id": "tYSmQP_mvdi5",
        "outputId": "1faeb09b-22ff-4f04-fca9-e7ec641aa4a9"
      },
      "source": [
        "#tain the model\n",
        "batch_size = 32\n",
        "model.fit(X_train, Y_train, epochs = 5, batch_size=batch_size, verbose = 2)"
      ],
      "execution_count": 12,
      "outputs": [
        {
          "output_type": "stream",
          "name": "stdout",
          "text": [
            "Epoch 1/5\n",
            "79/79 - 38s - loss: 0.0693 - accuracy: 0.9778 - 38s/epoch - 485ms/step\n",
            "Epoch 2/5\n",
            "79/79 - 38s - loss: 0.0189 - accuracy: 0.9952 - 38s/epoch - 485ms/step\n",
            "Epoch 3/5\n",
            "79/79 - 39s - loss: 0.0056 - accuracy: 0.9988 - 39s/epoch - 490ms/step\n",
            "Epoch 4/5\n",
            "79/79 - 38s - loss: 0.0029 - accuracy: 0.9996 - 38s/epoch - 485ms/step\n",
            "Epoch 5/5\n",
            "79/79 - 38s - loss: 0.0172 - accuracy: 0.9941 - 38s/epoch - 485ms/step\n"
          ]
        },
        {
          "output_type": "execute_result",
          "data": {
            "text/plain": [
              "<keras.callbacks.History at 0x7fe274369dd0>"
            ]
          },
          "metadata": {},
          "execution_count": 12
        }
      ]
    },
    {
      "cell_type": "code",
      "metadata": {
        "colab": {
          "base_uri": "https://localhost:8080/"
        },
        "id": "Hq3tMudMVFaO",
        "outputId": "c60f3748-9264-4514-ef6a-6dd877255d9c"
      },
      "source": [
        "#test how accuract the model is on the test data \n",
        "score,acc = model.evaluate(X_test, Y_test, verbose = 2, batch_size = batch_size)\n",
        "print(\"score: %.2f\" % (score))\n",
        "print(\"acc: %.2f\" % (acc))"
      ],
      "execution_count": 13,
      "outputs": [
        {
          "output_type": "stream",
          "name": "stdout",
          "text": [
            "20/20 - 2s - loss: 0.6020 - accuracy: 0.8257 - 2s/epoch - 84ms/step\n",
            "score: 0.60\n",
            "acc: 0.83\n"
          ]
        }
      ]
    },
    {
      "cell_type": "code",
      "metadata": {
        "id": "Itma9vhUVvCj"
      },
      "source": [
        "!jupyter nbconvert \"/content/m3_a1.ipynb\""
      ],
      "execution_count": null,
      "outputs": []
    }
  ]
}